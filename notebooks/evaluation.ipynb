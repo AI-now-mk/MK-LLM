
# Jupyter Notebook: Evaluate the trained Macedonian LLM

from transformers import AutoModelForCausalLM, AutoTokenizer
import torch

MODEL_PATH = "../models/mistral-finetuned-mk"

def evaluate_model():
    model = AutoModelForCausalLM.from_pretrained(MODEL_PATH)
    tokenizer = AutoTokenizer.from_pretrained(MODEL_PATH)
    sample_text = "Македонија е"
    inputs = tokenizer(sample_text, return_tensors="pt")
    with torch.no_grad():
        outputs = model.generate(**inputs)
    print("Generated text:", tokenizer.decode(outputs[0], skip_special_tokens=True))

if __name__ == "__main__":
    evaluate_model()
